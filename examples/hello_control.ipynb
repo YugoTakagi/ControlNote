{
 "cells": [
  {
   "cell_type": "code",
   "execution_count": 4,
   "metadata": {},
   "outputs": [],
   "source": [
    "# ライブラリのインポート\n",
    "import sys\n",
    "sys.path.append(\"../utils\")\n",
    "import numpy as np\n",
    "from control import matlab\n",
    "from matplotlib import pyplot as plt\n",
    "\n",
    "from calc_trapezoid_prof import make_vel_prof\n",
    "from integral_calculus import integral_calculus"
   ]
  },
  {
   "cell_type": "markdown",
   "metadata": {},
   "source": [
    "## 台形プロファイルが作れているか確認．"
   ]
  },
  {
   "cell_type": "code",
   "execution_count": 5,
   "metadata": {},
   "outputs": [
    {
     "data": {
      "image/png": "[encoded data removed]",
      "text/plain": [
       "<Figure size 432x288 with 1 Axes>"
      ]
     },
     "metadata": {
      "needs_background": "light"
     },
     "output_type": "display_data"
    }
   ],
   "source": [
    "def test1():\n",
    "    _time = 10.  # [s]\n",
    "    _acc = 10.  # [m/s**2]\n",
    "    _vel = 10.  # [m/s]\n",
    "    _x = 30.  # [m]\n",
    "\n",
    "    t = np.linspace(0, _time, 1000)\n",
    "    u = make_vel_prof(t, distance=_x, vel=_vel, acc_max=_acc)\n",
    "\n",
    "    plt.plot(t, u)\n",
    "    plt.grid()\n",
    "    plt.show()\n",
    "\n",
    "test1()"
   ]
  },
  {
   "cell_type": "markdown",
   "metadata": {},
   "source": [
    "## マス・ばね・ダンパ系のステップ応答とPID制御"
   ]
  },
  {
   "cell_type": "code",
   "execution_count": 6,
   "metadata": {},
   "outputs": [
    {
     "name": "stdout",
     "output_type": "stream",
     "text": [
      "G = \n",
      "   s + 5\n",
      "-----------\n",
      "s^2 + s + 5\n",
      "\n",
      "C = \n",
      "30 s + 10\n",
      "---------\n",
      "    s\n",
      "\n",
      "G*C = \n",
      "30 s^2 + 160 s + 50\n",
      "-------------------\n",
      "  s^3 + s^2 + 5 s\n",
      "\n",
      "G_new = \n",
      "   30 s^2 + 160 s + 50\n",
      "-------------------------\n",
      "s^3 + 31 s^2 + 165 s + 50\n",
      "\n"
     ]
    },
    {
     "name": "stderr",
     "output_type": "stream",
     "text": [
      "/Users/takagiyugo/.pyenv/versions/anaconda3-2020.11/lib/python3.7/site-packages/control/timeresp.py:936: UserWarning: return_x specified for a transfer function system. Internal conversion to state space used; results may meaningless.\n",
      "  \"return_x specified for a transfer function system. Internal \"\n"
     ]
    },
    {
     "data": {
      "image/png": "[encoded data removed]",
      "text/plain": [
       "<Figure size 432x288 with 1 Axes>"
      ]
     },
     "metadata": {
      "needs_background": "light"
     },
     "output_type": "display_data"
    }
   ],
   "source": [
    "def test2():\n",
    "    dt = 1e-3  # [s]\n",
    "    _time = 10.  # [s]\n",
    "\n",
    "    m = 1.  # [kg] 質量\n",
    "    c = 1.  # [N*s/m] 減衰定数\n",
    "    k = 5.  # [N/mm] ばね定数\n",
    "\n",
    "    num = [c, k]\n",
    "    den = [m, c, k]\n",
    "    G = matlab.tf(num, den)\n",
    "\n",
    "    Kp = 30.\n",
    "    Ki = 10.0\n",
    "    Kd = 0.\n",
    "    C = matlab.tf([Kd, Kp, Ki], [1, 0])\n",
    "    G_new = matlab.feedback(sys1=G * C, sys2=1, sign=-1)\n",
    "\n",
    "    print(f'G = {G}')\n",
    "    print(f'C = {C}')\n",
    "    print(f'G*C = {G * C}')\n",
    "    print(f'G_new = {G_new}')\n",
    "\n",
    "    # ステップ応答\n",
    "    # t = np.arange(0, _time, dt)\n",
    "    # (y_out, t) = matlab.step(sys=G, T=t)\n",
    "    # (y_out2, t2) = matlab.step(sys=G_new, T=t)\n",
    "\n",
    "    # 任意の入力\n",
    "    _acc = 10.  # [m/s**2]\n",
    "    _vel = 10.  # [m/s]\n",
    "    _x = 30.  # [m]\n",
    "\n",
    "    t = np.arange(0, _time, dt)\n",
    "    v = make_vel_prof(t, distance=_x, vel=_vel, acc_max=_acc)\n",
    "    u = integral_calculus(v, dt)\n",
    "    (y_out, t, x_out) = matlab.lsim(sys=G, U=u, T=t, X0=0)\n",
    "    (y_out2, t2, x_out2) = matlab.lsim(sys=G_new, U=u, T=t, X0=0)\n",
    "\n",
    "    plt.plot(t, y_out, label='x_out [m]')\n",
    "    plt.plot(t, y_out2, label='x_out2 [m]')\n",
    "    plt.plot(t, u, label='x_u [m]')\n",
    "    plt.plot(t, v, label='v [m/s]')\n",
    "    plt.xlabel('[s]')\n",
    "    plt.ylabel('[-]')\n",
    "    plt.legend()\n",
    "    plt.grid()\n",
    "    plt.show()\n",
    "\n",
    "test2()"
   ]
  },
  {
   "cell_type": "code",
   "execution_count": null,
   "metadata": {},
   "outputs": [],
   "source": []
  }
 ],
 "metadata": {
  "kernelspec": {
   "display_name": "base",
   "language": "python",
   "name": "python3"
  },
  "language_info": {
   "codemirror_mode": {
    "name": "ipython",
    "version": 3
   },
   "file_extension": ".py",
   "mimetype": "text/x-python",
   "name": "python",
   "nbconvert_exporter": "python",
   "pygments_lexer": "ipython3",
   "version": "3.7.10"
  },
  "orig_nbformat": 4
 },
 "nbformat": 4,
 "nbformat_minor": 2
}
